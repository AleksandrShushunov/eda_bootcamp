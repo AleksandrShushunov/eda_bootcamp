{
 "cells": [
  {
   "cell_type": "code",
   "execution_count": 1,
   "id": "ec66339a",
   "metadata": {},
   "outputs": [],
   "source": [
    "import pandas as pd"
   ]
  },
  {
   "cell_type": "code",
   "execution_count": 8,
   "id": "a7abb5ea",
   "metadata": {},
   "outputs": [],
   "source": [
    "!pip install polars -q\n",
    "\n",
    "import polars as pl"
   ]
  },
  {
   "cell_type": "code",
   "execution_count": 2,
   "id": "54834b2e",
   "metadata": {},
   "outputs": [],
   "source": [
    "df = pd.read_csv('online_shoppers_intention.csv')"
   ]
  },
  {
   "cell_type": "code",
   "execution_count": 3,
   "id": "f4269083",
   "metadata": {},
   "outputs": [
    {
     "data": {
      "text/plain": [
       "(12330, 18)"
      ]
     },
     "execution_count": 3,
     "metadata": {},
     "output_type": "execute_result"
    }
   ],
   "source": [
    "df.shape"
   ]
  },
  {
   "cell_type": "code",
   "execution_count": 6,
   "id": "6ff9e48f",
   "metadata": {},
   "outputs": [],
   "source": [
    "df_big = df.copy()\n",
    "\n",
    "for i in range(100):\n",
    "  df_big = pd.concat([df_big, df])\n",
    "\n",
    "df_big.to_csv(\"diamonds_big.csv\", index=False)"
   ]
  },
  {
   "cell_type": "code",
   "execution_count": 5,
   "id": "ad978ea9",
   "metadata": {},
   "outputs": [
    {
     "data": {
      "text/plain": [
       "(1245330, 18)"
      ]
     },
     "execution_count": 5,
     "metadata": {},
     "output_type": "execute_result"
    }
   ],
   "source": [
    "df_big.shape"
   ]
  },
  {
   "cell_type": "markdown",
   "id": "e505e2d3",
   "metadata": {},
   "source": [
    "Загрузка данных"
   ]
  },
  {
   "cell_type": "code",
   "execution_count": 9,
   "id": "033ad59a",
   "metadata": {},
   "outputs": [
    {
     "name": "stdout",
     "output_type": "stream",
     "text": [
      "CPU times: total: 2.8 s\n",
      "Wall time: 2.23 s\n"
     ]
    }
   ],
   "source": [
    "%%time\n",
    "\n",
    "df_pl = pl.read_csv(\"diamonds_big.csv\")"
   ]
  },
  {
   "cell_type": "code",
   "execution_count": 10,
   "id": "7a10978c",
   "metadata": {},
   "outputs": [
    {
     "name": "stdout",
     "output_type": "stream",
     "text": [
      "CPU times: total: 5.03 s\n",
      "Wall time: 5.18 s\n"
     ]
    }
   ],
   "source": [
    "%%time\n",
    "\n",
    "df = pd.read_csv(\"diamonds_big.csv\")"
   ]
  },
  {
   "cell_type": "markdown",
   "id": "80fbb12f",
   "metadata": {},
   "source": [
    "Фильтрация данных"
   ]
  },
  {
   "cell_type": "code",
   "execution_count": 18,
   "id": "9af13ee2",
   "metadata": {},
   "outputs": [
    {
     "name": "stdout",
     "output_type": "stream",
     "text": [
      "CPU times: total: 203 ms\n",
      "Wall time: 198 ms\n"
     ]
    },
    {
     "data": {
      "text/html": [
       "<div>\n",
       "<style scoped>\n",
       "    .dataframe tbody tr th:only-of-type {\n",
       "        vertical-align: middle;\n",
       "    }\n",
       "\n",
       "    .dataframe tbody tr th {\n",
       "        vertical-align: top;\n",
       "    }\n",
       "\n",
       "    .dataframe thead th {\n",
       "        text-align: right;\n",
       "    }\n",
       "</style>\n",
       "<table border=\"1\" class=\"dataframe\">\n",
       "  <thead>\n",
       "    <tr style=\"text-align: right;\">\n",
       "      <th></th>\n",
       "      <th>Administrative</th>\n",
       "      <th>Administrative_Duration</th>\n",
       "      <th>Informational</th>\n",
       "      <th>Informational_Duration</th>\n",
       "      <th>ProductRelated</th>\n",
       "      <th>ProductRelated_Duration</th>\n",
       "      <th>BounceRates</th>\n",
       "      <th>ExitRates</th>\n",
       "      <th>PageValues</th>\n",
       "      <th>SpecialDay</th>\n",
       "      <th>Month</th>\n",
       "      <th>OperatingSystems</th>\n",
       "      <th>Browser</th>\n",
       "      <th>Region</th>\n",
       "      <th>TrafficType</th>\n",
       "      <th>VisitorType</th>\n",
       "      <th>Weekend</th>\n",
       "      <th>Revenue</th>\n",
       "    </tr>\n",
       "  </thead>\n",
       "  <tbody>\n",
       "    <tr>\n",
       "      <th>2091</th>\n",
       "      <td>0</td>\n",
       "      <td>0.000000</td>\n",
       "      <td>0</td>\n",
       "      <td>0.0</td>\n",
       "      <td>15</td>\n",
       "      <td>292.694444</td>\n",
       "      <td>0.000000</td>\n",
       "      <td>0.005128</td>\n",
       "      <td>54.980000</td>\n",
       "      <td>0.0</td>\n",
       "      <td>May</td>\n",
       "      <td>3</td>\n",
       "      <td>2</td>\n",
       "      <td>4</td>\n",
       "      <td>4</td>\n",
       "      <td>Returning_Visitor</td>\n",
       "      <td>False</td>\n",
       "      <td>True</td>\n",
       "    </tr>\n",
       "    <tr>\n",
       "      <th>2093</th>\n",
       "      <td>2</td>\n",
       "      <td>254.000000</td>\n",
       "      <td>1</td>\n",
       "      <td>39.0</td>\n",
       "      <td>95</td>\n",
       "      <td>4990.959524</td>\n",
       "      <td>0.004124</td>\n",
       "      <td>0.015308</td>\n",
       "      <td>5.638103</td>\n",
       "      <td>0.0</td>\n",
       "      <td>May</td>\n",
       "      <td>2</td>\n",
       "      <td>2</td>\n",
       "      <td>1</td>\n",
       "      <td>6</td>\n",
       "      <td>Returning_Visitor</td>\n",
       "      <td>False</td>\n",
       "      <td>True</td>\n",
       "    </tr>\n",
       "    <tr>\n",
       "      <th>2098</th>\n",
       "      <td>5</td>\n",
       "      <td>85.666667</td>\n",
       "      <td>0</td>\n",
       "      <td>0.0</td>\n",
       "      <td>25</td>\n",
       "      <td>1194.500000</td>\n",
       "      <td>0.000000</td>\n",
       "      <td>0.007692</td>\n",
       "      <td>11.519231</td>\n",
       "      <td>0.0</td>\n",
       "      <td>May</td>\n",
       "      <td>2</td>\n",
       "      <td>2</td>\n",
       "      <td>1</td>\n",
       "      <td>2</td>\n",
       "      <td>New_Visitor</td>\n",
       "      <td>False</td>\n",
       "      <td>True</td>\n",
       "    </tr>\n",
       "    <tr>\n",
       "      <th>2108</th>\n",
       "      <td>0</td>\n",
       "      <td>0.000000</td>\n",
       "      <td>0</td>\n",
       "      <td>0.0</td>\n",
       "      <td>12</td>\n",
       "      <td>896.500000</td>\n",
       "      <td>0.008333</td>\n",
       "      <td>0.025000</td>\n",
       "      <td>14.689500</td>\n",
       "      <td>0.6</td>\n",
       "      <td>May</td>\n",
       "      <td>2</td>\n",
       "      <td>5</td>\n",
       "      <td>1</td>\n",
       "      <td>5</td>\n",
       "      <td>Returning_Visitor</td>\n",
       "      <td>False</td>\n",
       "      <td>True</td>\n",
       "    </tr>\n",
       "    <tr>\n",
       "      <th>2110</th>\n",
       "      <td>6</td>\n",
       "      <td>97.882353</td>\n",
       "      <td>2</td>\n",
       "      <td>9.0</td>\n",
       "      <td>58</td>\n",
       "      <td>2293.599020</td>\n",
       "      <td>0.008358</td>\n",
       "      <td>NaN</td>\n",
       "      <td>6.748500</td>\n",
       "      <td>0.0</td>\n",
       "      <td>May</td>\n",
       "      <td>2</td>\n",
       "      <td>2</td>\n",
       "      <td>7</td>\n",
       "      <td>4</td>\n",
       "      <td>Returning_Visitor</td>\n",
       "      <td>False</td>\n",
       "      <td>True</td>\n",
       "    </tr>\n",
       "    <tr>\n",
       "      <th>...</th>\n",
       "      <td>...</td>\n",
       "      <td>...</td>\n",
       "      <td>...</td>\n",
       "      <td>...</td>\n",
       "      <td>...</td>\n",
       "      <td>...</td>\n",
       "      <td>...</td>\n",
       "      <td>...</td>\n",
       "      <td>...</td>\n",
       "      <td>...</td>\n",
       "      <td>...</td>\n",
       "      <td>...</td>\n",
       "      <td>...</td>\n",
       "      <td>...</td>\n",
       "      <td>...</td>\n",
       "      <td>...</td>\n",
       "      <td>...</td>\n",
       "      <td>...</td>\n",
       "    </tr>\n",
       "    <tr>\n",
       "      <th>1238440</th>\n",
       "      <td>3</td>\n",
       "      <td>453.000000</td>\n",
       "      <td>3</td>\n",
       "      <td>493.5</td>\n",
       "      <td>36</td>\n",
       "      <td>1199.522619</td>\n",
       "      <td>0.004762</td>\n",
       "      <td>0.011534</td>\n",
       "      <td>9.323532</td>\n",
       "      <td>0.0</td>\n",
       "      <td>May</td>\n",
       "      <td>6</td>\n",
       "      <td>2</td>\n",
       "      <td>2</td>\n",
       "      <td>4</td>\n",
       "      <td>Returning_Visitor</td>\n",
       "      <td>False</td>\n",
       "      <td>False</td>\n",
       "    </tr>\n",
       "    <tr>\n",
       "      <th>1238441</th>\n",
       "      <td>1</td>\n",
       "      <td>32.000000</td>\n",
       "      <td>0</td>\n",
       "      <td>0.0</td>\n",
       "      <td>18</td>\n",
       "      <td>299.500000</td>\n",
       "      <td>0.015789</td>\n",
       "      <td>0.022807</td>\n",
       "      <td>19.448000</td>\n",
       "      <td>0.0</td>\n",
       "      <td>May</td>\n",
       "      <td>2</td>\n",
       "      <td>2</td>\n",
       "      <td>5</td>\n",
       "      <td>1</td>\n",
       "      <td>Returning_Visitor</td>\n",
       "      <td>True</td>\n",
       "      <td>True</td>\n",
       "    </tr>\n",
       "    <tr>\n",
       "      <th>1238443</th>\n",
       "      <td>3</td>\n",
       "      <td>101.666667</td>\n",
       "      <td>0</td>\n",
       "      <td>0.0</td>\n",
       "      <td>22</td>\n",
       "      <td>2250.083333</td>\n",
       "      <td>0.000000</td>\n",
       "      <td>0.019565</td>\n",
       "      <td>32.707304</td>\n",
       "      <td>0.0</td>\n",
       "      <td>May</td>\n",
       "      <td>2</td>\n",
       "      <td>4</td>\n",
       "      <td>4</td>\n",
       "      <td>1</td>\n",
       "      <td>Returning_Visitor</td>\n",
       "      <td>False</td>\n",
       "      <td>True</td>\n",
       "    </tr>\n",
       "    <tr>\n",
       "      <th>1238449</th>\n",
       "      <td>5</td>\n",
       "      <td>69.500000</td>\n",
       "      <td>4</td>\n",
       "      <td>116.0</td>\n",
       "      <td>84</td>\n",
       "      <td>2839.750000</td>\n",
       "      <td>0.000000</td>\n",
       "      <td>0.006593</td>\n",
       "      <td>6.281495</td>\n",
       "      <td>0.0</td>\n",
       "      <td>May</td>\n",
       "      <td>2</td>\n",
       "      <td>4</td>\n",
       "      <td>9</td>\n",
       "      <td>2</td>\n",
       "      <td>New_Visitor</td>\n",
       "      <td>False</td>\n",
       "      <td>False</td>\n",
       "    </tr>\n",
       "    <tr>\n",
       "      <th>1238453</th>\n",
       "      <td>2</td>\n",
       "      <td>76.000000</td>\n",
       "      <td>1</td>\n",
       "      <td>79.0</td>\n",
       "      <td>35</td>\n",
       "      <td>2072.666667</td>\n",
       "      <td>0.007207</td>\n",
       "      <td>0.031081</td>\n",
       "      <td>8.100000</td>\n",
       "      <td>0.8</td>\n",
       "      <td>May</td>\n",
       "      <td>2</td>\n",
       "      <td>4</td>\n",
       "      <td>7</td>\n",
       "      <td>2</td>\n",
       "      <td>Returning_Visitor</td>\n",
       "      <td>False</td>\n",
       "      <td>False</td>\n",
       "    </tr>\n",
       "  </tbody>\n",
       "</table>\n",
       "<p>73528 rows × 18 columns</p>\n",
       "</div>"
      ],
      "text/plain": [
       "         Administrative  Administrative_Duration  Informational  \\\n",
       "2091                  0                 0.000000              0   \n",
       "2093                  2               254.000000              1   \n",
       "2098                  5                85.666667              0   \n",
       "2108                  0                 0.000000              0   \n",
       "2110                  6                97.882353              2   \n",
       "...                 ...                      ...            ...   \n",
       "1238440               3               453.000000              3   \n",
       "1238441               1                32.000000              0   \n",
       "1238443               3               101.666667              0   \n",
       "1238449               5                69.500000              4   \n",
       "1238453               2                76.000000              1   \n",
       "\n",
       "         Informational_Duration  ProductRelated  ProductRelated_Duration  \\\n",
       "2091                        0.0              15               292.694444   \n",
       "2093                       39.0              95              4990.959524   \n",
       "2098                        0.0              25              1194.500000   \n",
       "2108                        0.0              12               896.500000   \n",
       "2110                        9.0              58              2293.599020   \n",
       "...                         ...             ...                      ...   \n",
       "1238440                   493.5              36              1199.522619   \n",
       "1238441                     0.0              18               299.500000   \n",
       "1238443                     0.0              22              2250.083333   \n",
       "1238449                   116.0              84              2839.750000   \n",
       "1238453                    79.0              35              2072.666667   \n",
       "\n",
       "         BounceRates  ExitRates  PageValues  SpecialDay Month  \\\n",
       "2091        0.000000   0.005128   54.980000         0.0   May   \n",
       "2093        0.004124   0.015308    5.638103         0.0   May   \n",
       "2098        0.000000   0.007692   11.519231         0.0   May   \n",
       "2108        0.008333   0.025000   14.689500         0.6   May   \n",
       "2110        0.008358        NaN    6.748500         0.0   May   \n",
       "...              ...        ...         ...         ...   ...   \n",
       "1238440     0.004762   0.011534    9.323532         0.0   May   \n",
       "1238441     0.015789   0.022807   19.448000         0.0   May   \n",
       "1238443     0.000000   0.019565   32.707304         0.0   May   \n",
       "1238449     0.000000   0.006593    6.281495         0.0   May   \n",
       "1238453     0.007207   0.031081    8.100000         0.8   May   \n",
       "\n",
       "         OperatingSystems  Browser  Region  TrafficType        VisitorType  \\\n",
       "2091                    3        2       4            4  Returning_Visitor   \n",
       "2093                    2        2       1            6  Returning_Visitor   \n",
       "2098                    2        2       1            2        New_Visitor   \n",
       "2108                    2        5       1            5  Returning_Visitor   \n",
       "2110                    2        2       7            4  Returning_Visitor   \n",
       "...                   ...      ...     ...          ...                ...   \n",
       "1238440                 6        2       2            4  Returning_Visitor   \n",
       "1238441                 2        2       5            1  Returning_Visitor   \n",
       "1238443                 2        4       4            1  Returning_Visitor   \n",
       "1238449                 2        4       9            2        New_Visitor   \n",
       "1238453                 2        4       7            2  Returning_Visitor   \n",
       "\n",
       "         Weekend  Revenue  \n",
       "2091       False     True  \n",
       "2093       False     True  \n",
       "2098       False     True  \n",
       "2108       False     True  \n",
       "2110       False     True  \n",
       "...          ...      ...  \n",
       "1238440    False    False  \n",
       "1238441     True     True  \n",
       "1238443    False     True  \n",
       "1238449    False    False  \n",
       "1238453    False    False  \n",
       "\n",
       "[73528 rows x 18 columns]"
      ]
     },
     "execution_count": 18,
     "metadata": {},
     "output_type": "execute_result"
    }
   ],
   "source": [
    "%%time\n",
    "\n",
    "df[(df.Month == 'May') & (df.PageValues > 1)]"
   ]
  },
  {
   "cell_type": "code",
   "execution_count": 20,
   "id": "b7b409b2",
   "metadata": {},
   "outputs": [
    {
     "name": "stdout",
     "output_type": "stream",
     "text": [
      "CPU times: total: 109 ms\n",
      "Wall time: 40.5 ms\n"
     ]
    },
    {
     "data": {
      "text/html": [
       "<div><style>\n",
       ".dataframe > thead > tr > th,\n",
       ".dataframe > tbody > tr > td {\n",
       "  text-align: right;\n",
       "}\n",
       "</style>\n",
       "<small>shape: (73_528, 18)</small><table border=\"1\" class=\"dataframe\"><thead><tr><th>Administrative</th><th>Administrative_Duration</th><th>Informational</th><th>Informational_Duration</th><th>ProductRelated</th><th>ProductRelated_Duration</th><th>BounceRates</th><th>ExitRates</th><th>PageValues</th><th>SpecialDay</th><th>Month</th><th>OperatingSystems</th><th>Browser</th><th>Region</th><th>TrafficType</th><th>VisitorType</th><th>Weekend</th><th>Revenue</th></tr><tr><td>i64</td><td>f64</td><td>i64</td><td>f64</td><td>i64</td><td>f64</td><td>f64</td><td>f64</td><td>f64</td><td>f64</td><td>str</td><td>i64</td><td>i64</td><td>i64</td><td>i64</td><td>str</td><td>bool</td><td>bool</td></tr></thead><tbody><tr><td>0</td><td>0.0</td><td>0</td><td>0.0</td><td>15</td><td>292.694444</td><td>0.0</td><td>0.005128</td><td>54.98</td><td>0.0</td><td>&quot;May&quot;</td><td>3</td><td>2</td><td>4</td><td>4</td><td>&quot;Returning_Visi…</td><td>false</td><td>true</td></tr><tr><td>2</td><td>254.0</td><td>1</td><td>39.0</td><td>95</td><td>4990.959524</td><td>0.004124</td><td>0.015308</td><td>5.638103</td><td>0.0</td><td>&quot;May&quot;</td><td>2</td><td>2</td><td>1</td><td>6</td><td>&quot;Returning_Visi…</td><td>false</td><td>true</td></tr><tr><td>5</td><td>85.666667</td><td>0</td><td>0.0</td><td>25</td><td>1194.5</td><td>0.0</td><td>0.007692</td><td>11.519231</td><td>0.0</td><td>&quot;May&quot;</td><td>2</td><td>2</td><td>1</td><td>2</td><td>&quot;New_Visitor&quot;</td><td>false</td><td>true</td></tr><tr><td>0</td><td>0.0</td><td>0</td><td>0.0</td><td>12</td><td>896.5</td><td>0.008333</td><td>0.025</td><td>14.6895</td><td>0.6</td><td>&quot;May&quot;</td><td>2</td><td>5</td><td>1</td><td>5</td><td>&quot;Returning_Visi…</td><td>false</td><td>true</td></tr><tr><td>6</td><td>97.882353</td><td>2</td><td>9.0</td><td>58</td><td>2293.59902</td><td>0.008358</td><td>null</td><td>6.7485</td><td>0.0</td><td>&quot;May&quot;</td><td>2</td><td>2</td><td>7</td><td>4</td><td>&quot;Returning_Visi…</td><td>false</td><td>true</td></tr><tr><td>6</td><td>60.0</td><td>1</td><td>30.0</td><td>51</td><td>1403.841919</td><td>0.003636</td><td>0.009091</td><td>20.24537</td><td>0.0</td><td>&quot;May&quot;</td><td>2</td><td>4</td><td>1</td><td>2</td><td>&quot;Returning_Visi…</td><td>false</td><td>false</td></tr><tr><td>1</td><td>22.75</td><td>0</td><td>0.0</td><td>16</td><td>461.083333</td><td>0.0</td><td>0.011458</td><td>17.991</td><td>0.0</td><td>&quot;May&quot;</td><td>2</td><td>2</td><td>1</td><td>4</td><td>&quot;Returning_Visi…</td><td>false</td><td>false</td></tr><tr><td>3</td><td>27.0</td><td>0</td><td>0.0</td><td>21</td><td>898.0</td><td>0.015385</td><td>0.042308</td><td>10.947231</td><td>0.6</td><td>&quot;May&quot;</td><td>2</td><td>2</td><td>1</td><td>3</td><td>&quot;Returning_Visi…</td><td>false</td><td>true</td></tr><tr><td>0</td><td>0.0</td><td>0</td><td>0.0</td><td>23</td><td>1888.5</td><td>0.0</td><td>0.008696</td><td>46.006435</td><td>0.0</td><td>&quot;May&quot;</td><td>2</td><td>2</td><td>4</td><td>4</td><td>&quot;New_Visitor&quot;</td><td>true</td><td>true</td></tr><tr><td>7</td><td>238.466667</td><td>7</td><td>300.9</td><td>33</td><td>1801.371429</td><td>0.0055</td><td>0.040416</td><td>8.08269</td><td>0.0</td><td>&quot;May&quot;</td><td>2</td><td>1</td><td>1</td><td>4</td><td>&quot;Returning_Visi…</td><td>true</td><td>false</td></tr><tr><td>4</td><td>92.0</td><td>0</td><td>0.0</td><td>19</td><td>1148.838095</td><td>0.012121</td><td>0.025289</td><td>32.065091</td><td>0.0</td><td>&quot;May&quot;</td><td>3</td><td>2</td><td>3</td><td>3</td><td>&quot;Returning_Visi…</td><td>false</td><td>false</td></tr><tr><td>2</td><td>129.0</td><td>0</td><td>0.0</td><td>31</td><td>866.7</td><td>0.011828</td><td>0.034101</td><td>18.111484</td><td>0.0</td><td>&quot;May&quot;</td><td>3</td><td>2</td><td>6</td><td>1</td><td>&quot;Returning_Visi…</td><td>false</td><td>true</td></tr><tr><td>&hellip;</td><td>&hellip;</td><td>&hellip;</td><td>&hellip;</td><td>&hellip;</td><td>&hellip;</td><td>&hellip;</td><td>&hellip;</td><td>&hellip;</td><td>&hellip;</td><td>&hellip;</td><td>&hellip;</td><td>&hellip;</td><td>&hellip;</td><td>&hellip;</td><td>&hellip;</td><td>&hellip;</td><td>&hellip;</td></tr><tr><td>1</td><td>3.0</td><td>0</td><td>0.0</td><td>26</td><td>885.0</td><td>0.0</td><td>0.036111</td><td>17.5455</td><td>0.0</td><td>&quot;May&quot;</td><td>2</td><td>2</td><td>1</td><td>2</td><td>&quot;Returning_Visi…</td><td>false</td><td>true</td></tr><tr><td>6</td><td>200.222222</td><td>2</td><td>126.0</td><td>146</td><td>7253.676493</td><td>0.006571</td><td>0.020306</td><td>5.942026</td><td>0.4</td><td>&quot;May&quot;</td><td>2</td><td>2</td><td>3</td><td>1</td><td>&quot;Returning_Visi…</td><td>false</td><td>false</td></tr><tr><td>9</td><td>194.416667</td><td>2</td><td>20.0</td><td>11</td><td>1569.166667</td><td>0.013333</td><td>0.028667</td><td>18.80505</td><td>0.0</td><td>&quot;May&quot;</td><td>3</td><td>2</td><td>7</td><td>6</td><td>&quot;Returning_Visi…</td><td>false</td><td>false</td></tr><tr><td>4</td><td>58.0</td><td>0</td><td>0.0</td><td>31</td><td>806.5</td><td>0.0</td><td>0.009375</td><td>9.7455</td><td>0.0</td><td>&quot;May&quot;</td><td>2</td><td>4</td><td>1</td><td>4</td><td>&quot;Returning_Visi…</td><td>false</td><td>true</td></tr><tr><td>0</td><td>0.0</td><td>1</td><td>35.0</td><td>33</td><td>782.083333</td><td>0.0</td><td>0.005882</td><td>23.033294</td><td>0.0</td><td>&quot;May&quot;</td><td>2</td><td>4</td><td>9</td><td>2</td><td>&quot;New_Visitor&quot;</td><td>false</td><td>true</td></tr><tr><td>2</td><td>11.0</td><td>0</td><td>0.0</td><td>12</td><td>347.0</td><td>0.0</td><td>0.023077</td><td>9.960923</td><td>0.0</td><td>&quot;May&quot;</td><td>1</td><td>1</td><td>3</td><td>3</td><td>&quot;Returning_Visi…</td><td>true</td><td>true</td></tr><tr><td>1</td><td>149.5</td><td>0</td><td>null</td><td>32</td><td>1562.333333</td><td>0.03871</td><td>0.062581</td><td>7.636645</td><td>0.2</td><td>&quot;May&quot;</td><td>2</td><td>2</td><td>3</td><td>2</td><td>&quot;Returning_Visi…</td><td>false</td><td>false</td></tr><tr><td>3</td><td>453.0</td><td>3</td><td>493.5</td><td>36</td><td>1199.522619</td><td>0.004762</td><td>0.011534</td><td>9.323532</td><td>0.0</td><td>&quot;May&quot;</td><td>6</td><td>2</td><td>2</td><td>4</td><td>&quot;Returning_Visi…</td><td>false</td><td>false</td></tr><tr><td>1</td><td>32.0</td><td>0</td><td>0.0</td><td>18</td><td>299.5</td><td>0.015789</td><td>0.022807</td><td>19.448</td><td>0.0</td><td>&quot;May&quot;</td><td>2</td><td>2</td><td>5</td><td>1</td><td>&quot;Returning_Visi…</td><td>true</td><td>true</td></tr><tr><td>3</td><td>101.666667</td><td>0</td><td>0.0</td><td>22</td><td>2250.083333</td><td>0.0</td><td>0.019565</td><td>32.707304</td><td>0.0</td><td>&quot;May&quot;</td><td>2</td><td>4</td><td>4</td><td>1</td><td>&quot;Returning_Visi…</td><td>false</td><td>true</td></tr><tr><td>5</td><td>69.5</td><td>4</td><td>116.0</td><td>84</td><td>2839.75</td><td>0.0</td><td>0.006593</td><td>6.281495</td><td>0.0</td><td>&quot;May&quot;</td><td>2</td><td>4</td><td>9</td><td>2</td><td>&quot;New_Visitor&quot;</td><td>false</td><td>false</td></tr><tr><td>2</td><td>76.0</td><td>1</td><td>79.0</td><td>35</td><td>2072.666667</td><td>0.007207</td><td>0.031081</td><td>8.1</td><td>0.8</td><td>&quot;May&quot;</td><td>2</td><td>4</td><td>7</td><td>2</td><td>&quot;Returning_Visi…</td><td>false</td><td>false</td></tr></tbody></table></div>"
      ],
      "text/plain": [
       "shape: (73_528, 18)\n",
       "┌────────────────┬───────────────┬───────────────┬───────────────┬───┬─────────────┬───────────────┬─────────┬─────────┐\n",
       "│ Administrative ┆ Administrativ ┆ Informational ┆ Informational ┆ … ┆ TrafficType ┆ VisitorType   ┆ Weekend ┆ Revenue │\n",
       "│ ---            ┆ e_Duration    ┆ ---           ┆ _Duration     ┆   ┆ ---         ┆ ---           ┆ ---     ┆ ---     │\n",
       "│ i64            ┆ ---           ┆ i64           ┆ ---           ┆   ┆ i64         ┆ str           ┆ bool    ┆ bool    │\n",
       "│                ┆ f64           ┆               ┆ f64           ┆   ┆             ┆               ┆         ┆         │\n",
       "╞════════════════╪═══════════════╪═══════════════╪═══════════════╪═══╪═════════════╪═══════════════╪═════════╪═════════╡\n",
       "│ 0              ┆ 0.0           ┆ 0             ┆ 0.0           ┆ … ┆ 4           ┆ Returning_Vis ┆ false   ┆ true    │\n",
       "│                ┆               ┆               ┆               ┆   ┆             ┆ itor          ┆         ┆         │\n",
       "│ 2              ┆ 254.0         ┆ 1             ┆ 39.0          ┆ … ┆ 6           ┆ Returning_Vis ┆ false   ┆ true    │\n",
       "│                ┆               ┆               ┆               ┆   ┆             ┆ itor          ┆         ┆         │\n",
       "│ 5              ┆ 85.666667     ┆ 0             ┆ 0.0           ┆ … ┆ 2           ┆ New_Visitor   ┆ false   ┆ true    │\n",
       "│ 0              ┆ 0.0           ┆ 0             ┆ 0.0           ┆ … ┆ 5           ┆ Returning_Vis ┆ false   ┆ true    │\n",
       "│                ┆               ┆               ┆               ┆   ┆             ┆ itor          ┆         ┆         │\n",
       "│ …              ┆ …             ┆ …             ┆ …             ┆ … ┆ …           ┆ …             ┆ …       ┆ …       │\n",
       "│ 1              ┆ 32.0          ┆ 0             ┆ 0.0           ┆ … ┆ 1           ┆ Returning_Vis ┆ true    ┆ true    │\n",
       "│                ┆               ┆               ┆               ┆   ┆             ┆ itor          ┆         ┆         │\n",
       "│ 3              ┆ 101.666667    ┆ 0             ┆ 0.0           ┆ … ┆ 1           ┆ Returning_Vis ┆ false   ┆ true    │\n",
       "│                ┆               ┆               ┆               ┆   ┆             ┆ itor          ┆         ┆         │\n",
       "│ 5              ┆ 69.5          ┆ 4             ┆ 116.0         ┆ … ┆ 2           ┆ New_Visitor   ┆ false   ┆ false   │\n",
       "│ 2              ┆ 76.0          ┆ 1             ┆ 79.0          ┆ … ┆ 2           ┆ Returning_Vis ┆ false   ┆ false   │\n",
       "│                ┆               ┆               ┆               ┆   ┆             ┆ itor          ┆         ┆         │\n",
       "└────────────────┴───────────────┴───────────────┴───────────────┴───┴─────────────┴───────────────┴─────────┴─────────┘"
      ]
     },
     "execution_count": 20,
     "metadata": {},
     "output_type": "execute_result"
    }
   ],
   "source": [
    "%%time\n",
    "\n",
    "df_pl.filter((pl.col('Month') == 'May') & (pl.col('PageValues') > 1))"
   ]
  },
  {
   "cell_type": "markdown",
   "id": "81378173",
   "metadata": {},
   "source": [
    "Агрегация данных"
   ]
  },
  {
   "cell_type": "code",
   "execution_count": 29,
   "id": "cbad32d9",
   "metadata": {},
   "outputs": [
    {
     "name": "stdout",
     "output_type": "stream",
     "text": [
      "CPU times: total: 172 ms\n",
      "Wall time: 176 ms\n"
     ]
    },
    {
     "data": {
      "text/html": [
       "<div>\n",
       "<style scoped>\n",
       "    .dataframe tbody tr th:only-of-type {\n",
       "        vertical-align: middle;\n",
       "    }\n",
       "\n",
       "    .dataframe tbody tr th {\n",
       "        vertical-align: top;\n",
       "    }\n",
       "\n",
       "    .dataframe thead th {\n",
       "        text-align: right;\n",
       "    }\n",
       "</style>\n",
       "<table border=\"1\" class=\"dataframe\">\n",
       "  <thead>\n",
       "    <tr style=\"text-align: right;\">\n",
       "      <th></th>\n",
       "      <th>Revenue</th>\n",
       "      <th>ProductRelated_Duration</th>\n",
       "    </tr>\n",
       "    <tr>\n",
       "      <th>Month</th>\n",
       "      <th></th>\n",
       "      <th></th>\n",
       "    </tr>\n",
       "  </thead>\n",
       "  <tbody>\n",
       "    <tr>\n",
       "      <th>Aug</th>\n",
       "      <td>7575</td>\n",
       "      <td>1272.096712</td>\n",
       "    </tr>\n",
       "    <tr>\n",
       "      <th>Dec</th>\n",
       "      <td>21513</td>\n",
       "      <td>1112.549675</td>\n",
       "    </tr>\n",
       "    <tr>\n",
       "      <th>Feb</th>\n",
       "      <td>303</td>\n",
       "      <td>468.787489</td>\n",
       "    </tr>\n",
       "    <tr>\n",
       "      <th>Jul</th>\n",
       "      <td>6464</td>\n",
       "      <td>1184.443839</td>\n",
       "    </tr>\n",
       "    <tr>\n",
       "      <th>June</th>\n",
       "      <td>2929</td>\n",
       "      <td>1207.771484</td>\n",
       "    </tr>\n",
       "    <tr>\n",
       "      <th>Mar</th>\n",
       "      <td>19190</td>\n",
       "      <td>810.300246</td>\n",
       "    </tr>\n",
       "    <tr>\n",
       "      <th>May</th>\n",
       "      <td>36663</td>\n",
       "      <td>978.842537</td>\n",
       "    </tr>\n",
       "    <tr>\n",
       "      <th>Nov</th>\n",
       "      <td>76053</td>\n",
       "      <td>1762.104918</td>\n",
       "    </tr>\n",
       "    <tr>\n",
       "      <th>Oct</th>\n",
       "      <td>11615</td>\n",
       "      <td>1125.588715</td>\n",
       "    </tr>\n",
       "    <tr>\n",
       "      <th>Sep</th>\n",
       "      <td>8686</td>\n",
       "      <td>1184.644715</td>\n",
       "    </tr>\n",
       "    <tr>\n",
       "      <th>aug</th>\n",
       "      <td>1717</td>\n",
       "      <td>1083.889901</td>\n",
       "    </tr>\n",
       "  </tbody>\n",
       "</table>\n",
       "</div>"
      ],
      "text/plain": [
       "       Revenue  ProductRelated_Duration\n",
       "Month                                  \n",
       "Aug       7575              1272.096712\n",
       "Dec      21513              1112.549675\n",
       "Feb        303               468.787489\n",
       "Jul       6464              1184.443839\n",
       "June      2929              1207.771484\n",
       "Mar      19190               810.300246\n",
       "May      36663               978.842537\n",
       "Nov      76053              1762.104918\n",
       "Oct      11615              1125.588715\n",
       "Sep       8686              1184.644715\n",
       "aug       1717              1083.889901"
      ]
     },
     "execution_count": 29,
     "metadata": {},
     "output_type": "execute_result"
    }
   ],
   "source": [
    "%%time\n",
    "\n",
    "df.groupby('Month').agg({'Revenue' : 'sum', 'ProductRelated_Duration' : 'mean'})"
   ]
  },
  {
   "cell_type": "code",
   "execution_count": 30,
   "id": "689e83ee",
   "metadata": {},
   "outputs": [
    {
     "name": "stdout",
     "output_type": "stream",
     "text": [
      "CPU times: total: 172 ms\n",
      "Wall time: 72 ms\n"
     ]
    },
    {
     "data": {
      "text/html": [
       "<div><style>\n",
       ".dataframe > thead > tr > th,\n",
       ".dataframe > tbody > tr > td {\n",
       "  text-align: right;\n",
       "}\n",
       "</style>\n",
       "<small>shape: (11, 3)</small><table border=\"1\" class=\"dataframe\"><thead><tr><th>Month</th><th>Revenue</th><th>ProductRelated_Duration</th></tr><tr><td>str</td><td>u32</td><td>f64</td></tr></thead><tbody><tr><td>&quot;aug&quot;</td><td>1717</td><td>1083.889901</td></tr><tr><td>&quot;Mar&quot;</td><td>19190</td><td>810.300246</td></tr><tr><td>&quot;June&quot;</td><td>2929</td><td>1207.771484</td></tr><tr><td>&quot;Sep&quot;</td><td>8686</td><td>1184.644715</td></tr><tr><td>&quot;May&quot;</td><td>36663</td><td>978.842537</td></tr><tr><td>&quot;Jul&quot;</td><td>6464</td><td>1184.443839</td></tr><tr><td>&quot;Aug&quot;</td><td>7575</td><td>1272.096712</td></tr><tr><td>&quot;Feb&quot;</td><td>303</td><td>468.787489</td></tr><tr><td>&quot;Nov&quot;</td><td>76053</td><td>1762.104918</td></tr><tr><td>&quot;Oct&quot;</td><td>11615</td><td>1125.588715</td></tr><tr><td>&quot;Dec&quot;</td><td>21513</td><td>1112.549675</td></tr></tbody></table></div>"
      ],
      "text/plain": [
       "shape: (11, 3)\n",
       "┌───────┬─────────┬─────────────────────────┐\n",
       "│ Month ┆ Revenue ┆ ProductRelated_Duration │\n",
       "│ ---   ┆ ---     ┆ ---                     │\n",
       "│ str   ┆ u32     ┆ f64                     │\n",
       "╞═══════╪═════════╪═════════════════════════╡\n",
       "│ aug   ┆ 1717    ┆ 1083.889901             │\n",
       "│ Mar   ┆ 19190   ┆ 810.300246              │\n",
       "│ June  ┆ 2929    ┆ 1207.771484             │\n",
       "│ Sep   ┆ 8686    ┆ 1184.644715             │\n",
       "│ …     ┆ …       ┆ …                       │\n",
       "│ Feb   ┆ 303     ┆ 468.787489              │\n",
       "│ Nov   ┆ 76053   ┆ 1762.104918             │\n",
       "│ Oct   ┆ 11615   ┆ 1125.588715             │\n",
       "│ Dec   ┆ 21513   ┆ 1112.549675             │\n",
       "└───────┴─────────┴─────────────────────────┘"
      ]
     },
     "execution_count": 30,
     "metadata": {},
     "output_type": "execute_result"
    }
   ],
   "source": [
    "%%time\n",
    "\n",
    "df_pl.groupby('Month').agg([pl.sum('Revenue'), pl.mean('ProductRelated_Duration')])"
   ]
  },
  {
   "cell_type": "markdown",
   "id": "2f5887f7",
   "metadata": {},
   "source": [
    "Polars оказывается быстрее Pandas'a или на одном уровне с ним во всех опробованных задачах загрузки и обработки больших данных "
   ]
  }
 ],
 "metadata": {
  "kernelspec": {
   "display_name": "Python 3 (ipykernel)",
   "language": "python",
   "name": "python3"
  },
  "language_info": {
   "codemirror_mode": {
    "name": "ipython",
    "version": 3
   },
   "file_extension": ".py",
   "mimetype": "text/x-python",
   "name": "python",
   "nbconvert_exporter": "python",
   "pygments_lexer": "ipython3",
   "version": "3.9.16"
  }
 },
 "nbformat": 4,
 "nbformat_minor": 5
}
